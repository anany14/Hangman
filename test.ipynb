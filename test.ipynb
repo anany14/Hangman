{
 "cells": [
  {
   "cell_type": "code",
   "execution_count": 10,
   "metadata": {},
   "outputs": [
    {
     "data": {
      "text/plain": [
       "23"
      ]
     },
     "execution_count": 10,
     "metadata": {},
     "output_type": "execute_result"
    }
   ],
   "source": [
    "class Students:\n",
    "    def __init__(self, name, age, username, language=\"English\"):\n",
    "        self.name = name\n",
    "        self.age = age\n",
    "        self.username = self.name + \"123\"\n",
    "        self.language = language\n",
    "        location = \"UK\"\n",
    "\n",
    "Students(\"Anany\", 23, \"apple\").age\n"
   ]
  }
 ],
 "metadata": {
  "kernelspec": {
   "display_name": "Python 3.9.12 ('base')",
   "language": "python",
   "name": "python3"
  },
  "language_info": {
   "codemirror_mode": {
    "name": "ipython",
    "version": 3
   },
   "file_extension": ".py",
   "mimetype": "text/x-python",
   "name": "python",
   "nbconvert_exporter": "python",
   "pygments_lexer": "ipython3",
   "version": "3.9.12"
  },
  "orig_nbformat": 4,
  "vscode": {
   "interpreter": {
    "hash": "62458a6af462c5887986750872995209cad0229e53b3352c1494eeef96f672df"
   }
  }
 },
 "nbformat": 4,
 "nbformat_minor": 2
}
